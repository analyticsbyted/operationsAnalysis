{
 "cells": [
  {
   "cell_type": "markdown",
   "metadata": {},
   "source": [
    "Process Capacity Example"
   ]
  },
  {
   "cell_type": "code",
   "execution_count": 15,
   "metadata": {},
   "outputs": [],
   "source": [
    "import pprint\n",
    "import pandas as pd\n",
    "import tabulate"
   ]
  },
  {
   "cell_type": "code",
   "execution_count": 2,
   "metadata": {},
   "outputs": [],
   "source": [
    "# Define the data for each step\n",
    "step_data = {\n",
    "    'A': {\n",
    "        'activity_time_per_unit': 0.25,\n",
    "        'capacity_per_worker': 4,\n",
    "        'number_of_workers': 2\n",
    "    },\n",
    "    'B': {\n",
    "        'activity_time_per_unit': 0.33,\n",
    "        'capacity_per_worker': 3,\n",
    "        'number_of_workers': 3\n",
    "    },\n",
    "    'C': {\n",
    "        'activity_time_per_unit': 0.2,\n",
    "        'capacity_per_worker': 5,\n",
    "        'number_of_workers': 2\n",
    "    },\n",
    "    'D': {\n",
    "        'activity_time_per_unit': 0.5,\n",
    "        'capacity_per_worker': 2,\n",
    "        'number_of_workers': 4\n",
    "    }\n",
    "}\n"
   ]
  },
  {
   "cell_type": "markdown",
   "metadata": {},
   "source": [
    "Step Data used for this example:"
   ]
  },
  {
   "cell_type": "code",
   "execution_count": 17,
   "metadata": {},
   "outputs": [
    {
     "name": "stdout",
     "output_type": "stream",
     "text": [
      "|    |   activity_time_per_unit |   capacity_per_worker |   number_of_workers |\n",
      "|:---|-------------------------:|----------------------:|--------------------:|\n",
      "| A  |                     0.25 |                     4 |                   2 |\n",
      "| B  |                     0.33 |                     3 |                   3 |\n",
      "| C  |                     0.2  |                     5 |                   2 |\n",
      "| D  |                     0.5  |                     2 |                   4 |\n"
     ]
    }
   ],
   "source": [
    "print(df.to_markdown())"
   ]
  },
  {
   "cell_type": "markdown",
   "metadata": {},
   "source": [
    "Calculate the capacity per step"
   ]
  },
  {
   "cell_type": "code",
   "execution_count": null,
   "metadata": {},
   "outputs": [],
   "source": [
    "\n",
    "# Calculate the capacity for each step\n",
    "step_capacity = {}\n",
    "for step, data in step_data.items():\n",
    "    capacity = data['capacity_per_worker'] * data['number_of_workers']\n",
    "    step_capacity[step] = capacity\n",
    "\n",
    "# Calculate the process capacity (minimum step capacity)\n",
    "process_capacity = min(step_capacity.values())\n",
    "\n",
    "# Calculate the process cycle time (1 / process_capacity)\n",
    "process_cycle_time = 1 / process_capacity\n",
    "\n",
    "# Print the results\n",
    "print(\"Capacity of Each Step:\")\n",
    "for step, capacity in step_capacity.items():\n",
    "    print(f\"Stage {step}: {capacity} units per minute\")\n",
    "\n",
    "print(f\"Process Capacity: {process_capacity} units per minute\")\n",
    "print(f\"Process Cycle Time: {process_cycle_time} minutes per unit\")\n"
   ]
  },
  {
   "cell_type": "markdown",
   "metadata": {},
   "source": [
    "Suppose the steps in activity D are made easier, so the activity time per unit in step D is reduced by 50% (to 0.25 min per unit).  If the assignment of workers to steps remains the same, by how much does the capacity of the entire process increase in units per min?"
   ]
  },
  {
   "cell_type": "code",
   "execution_count": 3,
   "metadata": {},
   "outputs": [
    {
     "name": "stdout",
     "output_type": "stream",
     "text": [
      "Original Process Capacity: 8 units per minute\n",
      "New Process Capacity: 8 units per minute\n",
      "Capacity Increase: 0 units per minute\n"
     ]
    }
   ],
   "source": [
    "# Update Step D data with the reduced activity time (50% reduction)\n",
    "step_data['D']['activity_time_per_unit'] = step_data['D']['activity_time_per_unit'] * 0.5\n",
    "\n",
    "# Calculate the new capacity for each step (including the change in Step D)\n",
    "new_step_capacity = {}\n",
    "for step, data in step_data.items():\n",
    "    capacity = data['capacity_per_worker'] * data['number_of_workers']\n",
    "    new_step_capacity[step] = capacity\n",
    "\n",
    "# Calculate the new overall process capacity (minimum new step capacity)\n",
    "new_process_capacity = min(new_step_capacity.values())\n",
    "\n",
    "# Calculate the increase in capacity\n",
    "capacity_increase = new_process_capacity - process_capacity\n",
    "\n",
    "# Print the results\n",
    "print(f\"Original Process Capacity: {process_capacity} units per minute\")\n",
    "print(f\"New Process Capacity: {new_process_capacity} units per minute\")\n",
    "print(f\"Capacity Increase: {capacity_increase} units per minute\")"
   ]
  },
  {
   "cell_type": "code",
   "execution_count": null,
   "metadata": {},
   "outputs": [],
   "source": []
  }
 ],
 "metadata": {
  "kernelspec": {
   "display_name": "mlkernel",
   "language": "python",
   "name": "mlkernel"
  },
  "language_info": {
   "codemirror_mode": {
    "name": "ipython",
    "version": 3
   },
   "file_extension": ".py",
   "mimetype": "text/x-python",
   "name": "python",
   "nbconvert_exporter": "python",
   "pygments_lexer": "ipython3",
   "version": "3.9.6"
  },
  "orig_nbformat": 4
 },
 "nbformat": 4,
 "nbformat_minor": 2
}
