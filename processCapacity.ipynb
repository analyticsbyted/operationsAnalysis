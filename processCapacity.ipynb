{
 "cells": [
  {
   "cell_type": "markdown",
   "metadata": {},
   "source": [
    "Consider a process that has 3 stations, ordered in sequence: A, B and C.  At each station, two consecutive tasks are performed one after the other. The time (in seconds per unit) it takes for a single person to perform each task is given in the table below (e.g., task A2 takes 10 seconds per unit): \n",
    "\n",
    "Station\t# of\n",
    "Workers\tTask A1\tTask\n",
    "A2\tTask\n",
    "B1\tTask\n",
    "B2\tTask\n",
    "C1\tTask C2\n",
    "A\t1\t20\t10\t-\t-\t-\t-\n",
    "B\t2\t-\t\t\t-\t40\t40\t-\t-\n",
    "C\t1\t-\t-\t-\t-\t15\t5\n",
    "\n",
    "The table also gives the number of workers at each station. What is the capacity of this process (in units per minute)? What is the process cycle time?\n"
   ]
  },
  {
   "cell_type": "code",
   "execution_count": 19,
   "metadata": {},
   "outputs": [],
   "source": [
    "import pandas as pd\n",
    "from tabulate import tabulate"
   ]
  },
  {
   "cell_type": "code",
   "execution_count": 20,
   "metadata": {},
   "outputs": [],
   "source": [
    "# Define the data\n",
    "task_times = {\n",
    "    'A1': 20,\n",
    "    'A2': 10,\n",
    "    'B1': 40,\n",
    "    'B2': 40,\n",
    "    'C1': 15,\n",
    "    'C2': 5\n",
    "}\n",
    "\n",
    "station_workers = {\n",
    "    'A': 1,\n",
    "    'B': 2,\n",
    "    'C': 1\n",
    "}\n"
   ]
  },
  {
   "cell_type": "code",
   "execution_count": 21,
   "metadata": {},
   "outputs": [
    {
     "name": "stdout",
     "output_type": "stream",
     "text": [
      "+---------+--------------+----+----+----+----+----+----+\n",
      "| Station | # of Workers | A1 | A2 | B1 | B2 | C1 | C2 |\n",
      "+---------+--------------+----+----+----+----+----+----+\n",
      "|    A    |      1       | 20 | 10 | -  | -  | -  | -  |\n",
      "|    B    |      2       | -  | -  | 40 | 40 | -  | -  |\n",
      "|    C    |      1       | -  | -  | -  | -  | 15 | 5  |\n",
      "+---------+--------------+----+----+----+----+----+----+\n"
     ]
    }
   ],
   "source": [
    "# Create a DataFrame to display the data\n",
    "data = {\n",
    "    'Station': [],\n",
    "    '# of Workers': []\n",
    "}\n",
    "for task in task_times.keys():\n",
    "    data[task] = []\n",
    "\n",
    "for station in station_workers.keys():\n",
    "    data['Station'].append(station)\n",
    "    data['# of Workers'].append(station_workers[station])\n",
    "    for task in task_times.keys():\n",
    "        if task.startswith(station):\n",
    "            data[task].append(task_times[task])\n",
    "        else:\n",
    "            data[task].append('-')\n",
    "\n",
    "df = pd.DataFrame(data)\n",
    "\n",
    "# Print the table using tabulate\n",
    "table = tabulate(df, headers='keys', tablefmt='pretty', showindex=False)\n",
    "print(table)\n",
    "\n"
   ]
  },
  {
   "cell_type": "code",
   "execution_count": 7,
   "metadata": {},
   "outputs": [],
   "source": [
    "\n",
    "# Calculate the capacity for each station\n",
    "station_capacity = {}\n",
    "for station in station_workers.keys():\n",
    "    capacity = sum(task_times[task] for task in task_times if task.startswith(station))\n",
    "    station_capacity[station] = station_workers[station] / (capacity / 60)  # Units per minute\n",
    "\n",
    "\n",
    "# Calculate the process cycle time (in seconds)\n",
    "process_cycle_time = 1 / min(station_capacity.values()) * 60  # Convert to seconds\n"
   ]
  },
  {
   "cell_type": "code",
   "execution_count": 8,
   "metadata": {},
   "outputs": [
    {
     "name": "stdout",
     "output_type": "stream",
     "text": [
      "Station A capacity (units per minute): 2.00\n",
      "Station B capacity (units per minute): 1.50\n",
      "Station C capacity (units per minute): 3.00\n",
      "Process cycle time (seconds): 40.00\n"
     ]
    }
   ],
   "source": [
    "\n",
    "# Print the results\n",
    "for station, capacity in station_capacity.items():\n",
    "    print(f\"Station {station} capacity (units per minute): {capacity:.2f}\")\n",
    "\n",
    "print(f\"Process cycle time (seconds): {process_cycle_time:.2f}\")\n",
    "\n"
   ]
  },
  {
   "cell_type": "code",
   "execution_count": 22,
   "metadata": {},
   "outputs": [
    {
     "name": "stdout",
     "output_type": "stream",
     "text": [
      "Time needed to process 10 units: 490.0 seconds\n"
     ]
    }
   ],
   "source": [
    "# Calculate the time needed to process 10 units\n",
    "initial_unit_time = sum(task_times.values())  # Time for the first unit\n",
    "subsequent_units_time = 9 * process_cycle_time  # Time for 9 subsequent units\n",
    "\n",
    "total_time = initial_unit_time + subsequent_units_time\n",
    "\n",
    "print(f\"Time needed to process 10 units: {total_time} seconds\")"
   ]
  },
  {
   "cell_type": "code",
   "execution_count": null,
   "metadata": {},
   "outputs": [],
   "source": []
  }
 ],
 "metadata": {
  "kernelspec": {
   "display_name": "mlkernel",
   "language": "python",
   "name": "mlkernel"
  },
  "language_info": {
   "codemirror_mode": {
    "name": "ipython",
    "version": 3
   },
   "file_extension": ".py",
   "mimetype": "text/x-python",
   "name": "python",
   "nbconvert_exporter": "python",
   "pygments_lexer": "ipython3",
   "version": "3.9.6"
  },
  "orig_nbformat": 4
 },
 "nbformat": 4,
 "nbformat_minor": 2
}
